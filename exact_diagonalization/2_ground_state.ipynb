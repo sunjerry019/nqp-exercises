{
 "cells": [
  {
   "cell_type": "markdown",
   "metadata": {},
   "source": [
    "# Problem 2"
   ]
  },
  {
   "cell_type": "code",
   "execution_count": 2,
   "metadata": {},
   "outputs": [],
   "source": [
    "include(\"qm.jl\")\n",
    "include(\"transversefieldising.jl\")\n",
    "\n",
    "# import Pkg; Pkg.add(\"PyPlot\")\n",
    "\n",
    "using .QuantumMechanics\n",
    "using .TransverseFieldIsing\n",
    "using Test"
   ]
  },
  {
   "cell_type": "markdown",
   "metadata": {},
   "source": [
    "## (2.a) Generating the Hamiltonian"
   ]
  },
  {
   "cell_type": "code",
   "execution_count": 3,
   "metadata": {},
   "outputs": [
    {
     "name": "stdout",
     "output_type": "stream",
     "text": [
      "\u001b[37m\u001b[1mTest Summary:  | \u001b[22m\u001b[39m\u001b[32m\u001b[1mPass  \u001b[22m\u001b[39m\u001b[36m\u001b[1mTotal\u001b[22m\u001b[39m\n",
      "2 Sites, h = 1 | \u001b[32m   2  \u001b[39m\u001b[36m    2\u001b[39m\n",
      "\u001b[37m\u001b[1mTest Summary: | \u001b[22m\u001b[39m\u001b[32m\u001b[1mPass  \u001b[22m\u001b[39m\u001b[36m\u001b[1mTotal\u001b[22m\u001b[39m\n",
      "1 Site, h = 1 | \u001b[32m   2  \u001b[39m\u001b[36m    2\u001b[39m\n"
     ]
    },
    {
     "data": {
      "text/plain": [
       "Test.DefaultTestSet(\"1 Site, h = 1\", Any[], 2, false)"
      ]
     },
     "metadata": {},
     "output_type": "display_data"
    }
   ],
   "source": [
    "# @testset \"2.a) Hamiltonian Tests\" begin\n",
    "    @testset \"2 Sites, h = 1\" begin\n",
    "        x = H(2, 1)\n",
    "    \n",
    "        correct_zpart = -[\n",
    "            2  0  0 0;\n",
    "            0 -2  0 0;\n",
    "            0  0 -2 0;\n",
    "            0  0  0 2\n",
    "        ]\n",
    "        correct_xpart = -[\n",
    "            0 1 1 0;\n",
    "            1 0 0 1;\n",
    "            1 0 0 1;\n",
    "            0 1 1 0\n",
    "        ]\n",
    "    \n",
    "        @test x.L == 2\n",
    "        @test x.matrix == (correct_zpart + correct_xpart)\n",
    "    end\n",
    "    \n",
    "    @testset \"1 Site, h = 1\" begin\n",
    "        x = H(1,1)\n",
    "\n",
    "        @test x.L == 1\n",
    "        @test x.matrix == -[1 1; 1 1]\n",
    "    end\n",
    "# end"
   ]
  },
  {
   "cell_type": "markdown",
   "metadata": {},
   "source": [
    "## (2.b) Calculate the GS energy (density) and average magnetisation\n",
    "\n",
    "We take $L = 2$ and $h = 1$"
   ]
  },
  {
   "cell_type": "code",
   "execution_count": 4,
   "metadata": {},
   "outputs": [
    {
     "data": {
      "text/plain": [
       "-2.8284271247461894"
      ]
     },
     "metadata": {},
     "output_type": "display_data"
    }
   ],
   "source": [
    "ground_state_energy(2,1)"
   ]
  },
  {
   "cell_type": "code",
   "execution_count": 5,
   "metadata": {},
   "outputs": [
    {
     "data": {
      "text/plain": [
       "-1.4142135623730947"
      ]
     },
     "metadata": {},
     "output_type": "display_data"
    }
   ],
   "source": [
    "ground_state_energy_density(2,1)"
   ]
  },
  {
   "cell_type": "code",
   "execution_count": 6,
   "metadata": {},
   "outputs": [
    {
     "data": {
      "text/plain": [
       "-1.3877787807814457e-16"
      ]
     },
     "metadata": {},
     "output_type": "display_data"
    }
   ],
   "source": [
    "average_ground_state_magnetization(2,1)"
   ]
  },
  {
   "cell_type": "code",
   "execution_count": 7,
   "metadata": {},
   "outputs": [
    {
     "data": {
      "text/plain": [
       "4-element Array{Complex{Float64},1}:\n",
       "  0.6532814824381882 + 0.0im\n",
       " 0.27059805007309845 + 0.0im\n",
       "  0.2705980500730985 + 0.0im\n",
       "  0.6532814824381884 + 0.0im"
      ]
     },
     "metadata": {},
     "output_type": "display_data"
    }
   ],
   "source": [
    "ground_state(2,1).state"
   ]
  },
  {
   "cell_type": "markdown",
   "metadata": {},
   "source": [
    "## (2.c) Repeat for different $L$ and $h$"
   ]
  },
  {
   "cell_type": "code",
   "execution_count": 7,
   "metadata": {},
   "outputs": [],
   "source": [
    "# import Pkg; Pkg.add(\"Plots\")"
   ]
  },
  {
   "cell_type": "code",
   "execution_count": 8,
   "metadata": {},
   "outputs": [],
   "source": [
    "using Plots\n",
    "\n",
    "_h_array = collect(range(0, 10, length=100))\n",
    "_L_array = collect(range(1, 5, step=1))\n",
    "\n",
    "# https://stackoverflow.com/a/40651655\n",
    "default(size=(600,600), fc=:heat)\n",
    "\n",
    "_gsed = Surface((x,y) ->  ground_state_energy_density(x, y), _L_array, _h_array)\n",
    "_gsam = Surface((x,y) ->  average_ground_state_magnetization(x, y), _L_array, _h_array)\n",
    "\n",
    "surface(_L_array, _h_array, _gsed)"
   ]
  },
  {
   "cell_type": "markdown",
   "metadata": {},
   "source": [
    "# also see 2_ground_state.jl"
   ]
  }
 ],
 "metadata": {
  "kernelspec": {
   "display_name": "Julia 1.4.1",
   "language": "julia",
   "name": "julia-1.4"
  },
  "language_info": {
   "file_extension": ".jl",
   "mimetype": "application/julia",
   "name": "julia",
   "version": "1.4.1"
  },
  "orig_nbformat": 4
 },
 "nbformat": 4,
 "nbformat_minor": 2
}
