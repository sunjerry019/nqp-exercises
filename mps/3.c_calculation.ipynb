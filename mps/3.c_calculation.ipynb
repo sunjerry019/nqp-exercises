{
 "cells": [
  {
   "cell_type": "markdown",
   "metadata": {},
   "source": [
    "# Problem 3.c "
   ]
  },
  {
   "cell_type": "code",
   "execution_count": 1,
   "metadata": {},
   "outputs": [],
   "source": [
    "push!(LOAD_PATH, \"./\")\n",
    "push!(LOAD_PATH, \"../exact_diagonalization/\")\n",
    "\n",
    "using QM\n",
    "using TransverseFieldIsing\n",
    "using MatrixProductStates\n",
    "using LinearAlgebra"
   ]
  },
  {
   "cell_type": "code",
   "execution_count": 3,
   "metadata": {},
   "outputs": [
    {
     "data": {
      "text/plain": [
       "MPS(5, 4, Integer[2, 2, 2, 2, 2], Array[Complex{Float64}[-0.7071067811865474 + 0.0im -0.7071067811865472 + 0.0im]\n",
       "\n",
       "Complex{Float64}[-0.7071067811865472 + 0.0im 0.7071067811865475 + 0.0im], Complex{Float64}[-0.7062156555365069 + 0.0im -0.5000000000000043 + 0.0im 0.4999999999999961 + 0.0im 0.03548870066854647 + 0.0im; -0.035488700668544905 + 0.0im -0.4999999999999987 + 0.0im -0.5000000000000046 + 0.0im -0.7062156555365048 + 0.0im]\n",
       "\n",
       "Complex{Float64}[-0.7062156555365072 + 0.0im 0.5000000000000047 + 0.0im -0.4999999999999959 + 0.0im 0.035488700668543316 + 0.0im; 0.0354887006685449 + 0.0im -0.49999999999999334 + 0.0im -0.5000000000000039 + 0.0im 0.7062156555365092 + 0.0im], Complex{Float64}[-0.7062071078571481 + 0.0im 0.49560269144581515 + 0.0im 0.4993698790099611 + 0.0im -0.00756457086080372 + 0.0im; -0.027931268505976853 + 0.0im 0.4198191707548381 + 0.0im -0.3535533905932769 + 0.0im 0.544678420981952 + 0.0im; 0.02216674747359966 + 0.0im 0.2784694991488761 + 0.0im -0.35355339059328167 + 0.0im 0.44526452718937753 + 0.0im; 1.8924348176285895e-5 + 0.0im 0.024177968114858554 + 0.0im -0.025094300898225782 + 0.0im 0.07076507479774849 + 0.0im]\n",
       "\n",
       "Complex{Float64}[-0.7062071078571481 + 0.0im -0.4956026914458154 + 0.0im -0.499369879009961 + 0.0im -0.00756457086079073 + 0.0im; 0.027931268505976797 + 0.0im 0.41981917075482855 + 0.0im -0.35355339059327473 + 0.0im -0.54467842098192 + 0.0im; -0.022166747473599716 + 0.0im 0.27846949914887303 + 0.0im -0.35355339059327884 + 0.0im -0.445264527189467 + 0.0im; 1.89243481762692e-5 + 0.0im -0.024177968114858006 + 0.0im 0.025094300898229484 + 0.0im 0.07076507479726905 + 0.0im], Complex{Float64}[-0.7061964283322781 + 0.0im 0.4970156628294083 + 0.0im; 0.028178325642872926 + 0.0im -0.3946453446011241 + 0.0im; 0.022194113922814833 + 0.0im 0.3108347830241452 + 0.0im; -8.877995267015499e-5 + 0.0im -0.024743090939458933 + 0.0im]\n",
       "\n",
       "Complex{Float64}[-0.7061964283322764 + 0.0im -0.49701566282940973 + 0.0im; -0.028178325642872988 + 0.0im -0.3946453446011174 + 0.0im; -0.022194113922814892 + 0.0im 0.31083478302414536 + 0.0im; -8.877995267013959e-5 + 0.0im 0.024743090939459138 + 0.0im], Complex{Float64}[-0.7053111601476476 + 0.0im; 0.05036037501032787 + 0.0im]\n",
       "\n",
       "Complex{Float64}[-0.7053111601476455 + 0.0im; -0.050360375010328015 + 0.0im]])"
      ]
     },
     "metadata": {},
     "output_type": "display_data"
    }
   ],
   "source": [
    "L = 5\n",
    "gs_0 = ground_state(L, 5)\n",
    "gs_0_MPS = create_MPS_from_State(gs_0)"
   ]
  },
  {
   "cell_type": "markdown",
   "metadata": {},
   "source": [
    "# Question\n",
    "Not too sure how to continue here...which two states should I start with and do I compare it against the ground state calculated above?"
   ]
  },
  {
   "cell_type": "code",
   "execution_count": null,
   "metadata": {},
   "outputs": [],
   "source": []
  }
 ],
 "metadata": {
  "kernelspec": {
   "display_name": "Julia 1.4.1",
   "language": "julia",
   "name": "julia-1.4"
  },
  "language_info": {
   "file_extension": ".jl",
   "mimetype": "application/julia",
   "name": "julia",
   "version": "1.4.1"
  },
  "orig_nbformat": 4
 },
 "nbformat": 4,
 "nbformat_minor": 2
}
